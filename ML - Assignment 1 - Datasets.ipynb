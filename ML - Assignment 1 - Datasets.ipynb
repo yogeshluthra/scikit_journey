{
 "cells": [
  {
   "cell_type": "markdown",
   "metadata": {},
   "source": [
    "upto 1000 instances\n",
    "-------------------\n",
    "Credit Approval : https://archive.ics.uci.edu/ml/datasets/Credit+Approval\n",
    "crx.data\n",
    "NOT Interesting : All algorithms about 86% accuracy. SVM needed to normalize attributes.\n",
    "\n",
    "\n",
    "Statlog (German Credit Data) Data Set: https://archive.ics.uci.edu/ml/machine-learning-databases/statlog/german/german.data\n",
    "german.data-numeric (instances: 1000\t attributes: 21)\n",
    "\n",
    "\n",
    "\n",
    "\n",
    "\n",
    "Data set preparation:    \n",
    "    show through a confusion matrix that it confuses two really similar classes; \n",
    "        and re-run an experiment where those two classes are treated as a single class, showing then that all algorithms perform well; or \n",
    "        \n",
    "    show that each algorithm seems to use different features \n",
    "        so re-running those experiments with different features ends up giving completely different results. "
   ]
  },
  {
   "cell_type": "code",
   "execution_count": 1,
   "metadata": {
    "collapsed": false
   },
   "outputs": [
    {
     "name": "stdout",
     "output_type": "stream",
     "text": [
      "    A1  A2   A3   A4    A5   A6   A7  A8   A9   A10  ...    A12 A13   A14  \\\n",
      "0  A11   6  A34  A43  1169  A65  A75   4  A93  A101  ...   A121  67  A143   \n",
      "1  A12  48  A32  A43  5951  A61  A73   2  A92  A101  ...   A121  22  A143   \n",
      "2  A14  12  A34  A46  2096  A61  A74   2  A93  A101  ...   A121  49  A143   \n",
      "3  A11  42  A32  A42  7882  A61  A74   2  A93  A103  ...   A122  45  A143   \n",
      "4  A11  24  A33  A40  4870  A61  A73   3  A93  A101  ...   A124  53  A143   \n",
      "\n",
      "    A15 A16   A17 A18   A19   A20 Label  \n",
      "0  A152   2  A173   1  A192  A201     1  \n",
      "1  A152   1  A173   1  A191  A201     2  \n",
      "2  A152   1  A172   2  A191  A201     1  \n",
      "3  A153   1  A173   2  A191  A201     1  \n",
      "4  A153   2  A173   2  A191  A201     2  \n",
      "\n",
      "[5 rows x 21 columns]\n",
      "instances: 1000\t attributes: 21\n",
      "see:\n",
      "/Users/yogeshluthra/Documents/OneDrive/OMCS GeorgiaTech/Machine Learning/UCI_datasets/german.data.csv\n"
     ]
    }
   ],
   "source": [
    "import re\n",
    "import os\n",
    "import pandas as pd\n",
    "import string\n",
    "\n",
    "uciData_path='/Users/yogeshluthra/Documents/OneDrive/OMCS GeorgiaTech/Machine Learning/UCI_datasets'\n",
    "\n",
    "#currData=re.escape('crx.data')\n",
    "currData='german.data'\n",
    "\n",
    "#dataFile=open(uciData_path+'/'+currData)\n",
    "#dataFile.close()\n",
    "df=pd.read_csv(uciData_path+'/'+currData, sep='[,\\t\\s]+', header=None, engine='python')\n",
    "attributes=['A'+str(colnum) for colnum in range(1,len(df.columns))]\n",
    "attributes.append('Label')\n",
    "df.columns = attributes\n",
    "print(df.head())\n",
    "print(\"instances: \"+str(len(df.index))+\"\\t attributes: \"+str(len(df.columns)))\n",
    "\n",
    "df.to_csv(uciData_path+'/'+currData+'.csv', sep=',', index=False)   #no index column. Separated by tab\n",
    "print(\"processed csv saved in:\")\n",
    "print(uciData_path+'/'+currData+'.csv')\n",
    "\n"
   ]
  },
  {
   "cell_type": "code",
   "execution_count": null,
   "metadata": {
    "collapsed": true
   },
   "outputs": [],
   "source": []
  }
 ],
 "metadata": {
  "kernelspec": {
   "display_name": "Python 2",
   "language": "python",
   "name": "python2"
  },
  "language_info": {
   "codemirror_mode": {
    "name": "ipython",
    "version": 2
   },
   "file_extension": ".py",
   "mimetype": "text/x-python",
   "name": "python",
   "nbconvert_exporter": "python",
   "pygments_lexer": "ipython2",
   "version": "2.7.12"
  }
 },
 "nbformat": 4,
 "nbformat_minor": 0
}
