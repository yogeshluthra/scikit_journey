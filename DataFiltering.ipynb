{
 "cells": [
  {
   "cell_type": "code",
   "execution_count": 1,
   "metadata": {
    "collapsed": false
   },
   "outputs": [],
   "source": [
    "import pandas as pd\n",
    "import numpy as np\n",
    "import matplotlib.pyplot as plt\n",
    "from sklearn import cross_validation, datasets, preprocessing, svm, linear_model\n",
    "from sklearn.grid_search import GridSearchCV\n",
    "import re\n",
    "import os\n",
    "import string"
   ]
  },
  {
   "cell_type": "markdown",
   "metadata": {},
   "source": [
    "#### Useful links\n",
    "http://scikit-learn.org/stable/modules/generated/sklearn.preprocessing.MultiLabelBinarizer.html#sklearn.preprocessing.MultiLabelBinarizer  \n",
    "http://scikit-learn.org/stable/modules/generated/sklearn.preprocessing.StandardScaler.html#sklearn.preprocessing.StandardScaler  \n",
    "http://pandas.pydata.org/pandas-docs/stable/generated/pandas.Series.value_counts.html  \n",
    "http://scikit-learn.org/stable/modules/generated/sklearn.preprocessing.Imputer.html#sklearn.preprocessing.Imputer  \n",
    "http://scikit-learn.org/stable/auto_examples/missing_values.html#imputing-missing-values-before-building-an-estimator  "
   ]
  },
  {
   "cell_type": "markdown",
   "metadata": {},
   "source": [
    "#### Usage of following function\n",
    "NumericalizeData(X, attrTypes, doNorm=True, enc_nom=None, enc_num=None, removeMiss=False, doImpute=True)\n",
    "\n",
    "-  X: numpy array (contains mixed attribute values)\n",
    "-  attrTypes: types of each category. 'c' for categorical. 'n' for numeric\n",
    "-  doNorm: Whether to mean/normalize numeric values\n",
    "-  Encoders\n",
    "  -  enc_nom: Encoder for nominal attribute fitting and transform. If not passed, MultiLabelBinarizer() object is created\n",
    "  -  enc_num: Scaler for numeric values. If not passed, StandardScaler() object is created\n",
    "-  removeMiss: Whether to remove instances having missing values.\n",
    "-  doImpute: Whether to Impute the data. \n",
    "  -  Nominal with most occuring value along each column. Numeric with mean value of each column\n",
    "\n",
    "**Returns : tuple( Modified Data, Encoder Used for Nominal Data, Encoder used for Numeric Data)**\n",
    "  -  Encoders are returned, so that they could be used on test data"
   ]
  },
  {
   "cell_type": "code",
   "execution_count": 4,
   "metadata": {
    "collapsed": true
   },
   "outputs": [],
   "source": [
    "# Example of attrTypes. Required: len(attrTypes)==X.shape[1]\n",
    "attrTypes=['c', 'n', 'c', 'c', 'n', 'c', 'c', 'n', 'c', 'c', 'n', 'c', 'n', 'c', 'c', 'n', 'c', 'n', 'c', 'c']"
   ]
  },
  {
   "cell_type": "code",
   "execution_count": 2,
   "metadata": {
    "collapsed": true
   },
   "outputs": [],
   "source": [
    "def NumericalizeData(X, attrTypes, doNorm=True, enc_nom=None, enc_num=None, removeMiss=False, doImpute=True):\n",
    "    cols=X.shape[1]\n",
    "    if(cols!=len(attrTypes)):\n",
    "        print \"mismatch in attrTypes and number of attributes in X\"\n",
    "        raise\n",
    "    rows=X.shape[0]\n",
    "    \n",
    "    #create empty vectors\n",
    "    x_numeric=np.array([])\n",
    "    x_nominal=np.array([])\n",
    "    for i in range(1, rows):\n",
    "        x_numeric=np.vstack((x_numeric, np.array([])))\n",
    "        x_nominal=np.vstack((x_nominal, np.array([])))\n",
    "    \n",
    "    #separate nominal and numeric attributes for further processing\n",
    "    for i in range(len(attrTypes)): \n",
    "        if attrTypes[i] is 'c':\n",
    "            x_nominal=np.hstack((x_nominal, X[:,[i]]))\n",
    "        elif attrTypes[i] is 'n':\n",
    "            x_numeric=np.hstack((x_numeric, X[:,[i]]))\n",
    "        else:\n",
    "            print(\"Value error. Check {0}\".format(attrTypes[i]))\n",
    "            raise\n",
    "    if doImpute is True:\n",
    "        print \"Imputing dataset...\"\n",
    "        nomDF=pd.DataFrame(x_nominal) #Convert np.array to pd.DataFrame\n",
    "        nomDF=nomDF.apply(lambda x:x.fillna(x.value_counts().index[0])) #replace NaN with most frequent in each column\n",
    "        x_nominal=nomDF.values #convert back pd.DataFrame to np.array\n",
    "        imp=preprocessing.Imputer(strategy='mean')\n",
    "        x_numeric=imp.fit_transform(x_numeric)\n",
    "        \n",
    "    elif removeMiss is True:\n",
    "        print \"Removing instances having missing values...\"\n",
    "        isNomMissing=np.array([np.isnan(x_nominal[row, :]).any() for row in range(x_nominal.shape[0])])\n",
    "        x_nominal=x_nominal[~isNomMissing, :]\n",
    "        isNumMissing=np.array([np.isnan(x_numeric[row, :]).any() for row in range(x_numeric.shape[0])])\n",
    "        x_numeric=x_numeric[~isNumMissing, :]\n",
    "        \n",
    "        \n",
    "    #OneHotEncode nominal\n",
    "    if enc_nom is None: \n",
    "        enc_nom = preprocessing.MultiLabelBinarizer()\n",
    "        if x_nominal.shape[1] is not 0:\n",
    "            x_nominal=enc_nom.fit_transform(x_nominal)\n",
    "    else:\n",
    "        if x_nominal.shape[1] is not 0:\n",
    "            x_nominal=enc_nom.transform(x_nominal)\n",
    "    #normalize numerics\n",
    "    if doNorm is True: \n",
    "        if enc_num is None:\n",
    "            enc_num=preprocessing.StandardScaler()\n",
    "            if x_numeric.shape[1] is not 0:\n",
    "                x_numeric=enc_num.fit_transform(x_numeric)\n",
    "        else:\n",
    "            if x_numeric.shape[1] is not 0:\n",
    "                x_numeric=enc_num.transform(x_numeric)\n",
    "    \n",
    "    X_mod=np.hstack((x_nominal, x_numeric))\n",
    "    return (X_mod, enc_nom, enc_num)\n",
    "        \n",
    "    "
   ]
  },
  {
   "cell_type": "code",
   "execution_count": 3,
   "metadata": {
    "collapsed": true
   },
   "outputs": [],
   "source": [
    "#def preProcessData(X, y):\n",
    "    "
   ]
  }
 ],
 "metadata": {
  "kernelspec": {
   "display_name": "Python 2",
   "language": "python",
   "name": "python2"
  },
  "language_info": {
   "codemirror_mode": {
    "name": "ipython",
    "version": 2
   },
   "file_extension": ".py",
   "mimetype": "text/x-python",
   "name": "python",
   "nbconvert_exporter": "python",
   "pygments_lexer": "ipython2",
   "version": "2.7.12"
  }
 },
 "nbformat": 4,
 "nbformat_minor": 1
}
