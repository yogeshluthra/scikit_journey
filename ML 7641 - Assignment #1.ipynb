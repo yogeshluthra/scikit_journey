{
 "cells": [
  {
   "cell_type": "markdown",
   "metadata": {
    "slideshow": {
     "slide_type": "slide"
    }
   },
   "source": [
    "Important resources for ML 7641 #1 assignment\n",
    "    1. Guide by former OMSCS student:\n",
    "    https://www.whenthereisdata.com/2016/01/journey-into-machine-learning-at-georgia-tech-omscs/\n",
    "\n",
    "    2. WEKA software\n",
    "    http://www.cs.waikato.ac.nz/ml/weka/\n",
    "    \n",
    "    3. Data Sets (most important for the assignments)\n",
    "    http://archive.ics.uci.edu/ml/\n",
    "    \n",
    "WEKA learning notes\n",
    "GLOBAL NOTES :\n",
    "    - Noise can be added to dataset using unsupervised Noise Filter\n",
    "    - IBk overfits dramatically! \n",
    "    - J48 can overfit badly because of the highly complex decision boundaries it can produce; the effect is ameliorated, but rarely completely eliminated, by its pruning algorithm. \n",
    "    - Logistic regression is a sophisticated way of producing a good linear decision boundary, which is necessarily simple and therefore less likely to overfit. \n",
    "    - SMO can produce piecewise linear boundaries, but is resiient against overfitting because it relies on a small number of support vectors.\n",
    "    \n",
    "    - LinearRegression: In practical situations it is common to delete outliers manually and then use LinearRegression.\n",
    "    - In general, it's better to replace missing values rather than delete them entirely, since in many cases these attributes will contribute some useful information.\n",
    "    \n",
    "Algorithm characteristics:\n",
    "    - J48: Works well and produces comprehensible models.\n",
    "    - NaiveBayes: Works well when attributes contribute equally and independently to the decision.\n",
    "    - IBk: Simply stores the training data without processing it at all.\n",
    "    - Logistic: Calculates a linear decision boundary.\n",
    "    - SVM: Avoids overfitting, even with large numbers of attributes.\n",
    "    \n",
    "\n",
    "\n",
    "lecture 1.4 : how to visualize the tree\n",
    "    ID3 -> C4.5 -> C4.8(J48; written in Java) -> C5.0(latest)\n",
    "    C4.5 <-> C4.8 (close)\n",
    "    \n",
    "lecture 1.5 :\n",
    "        filters:\n",
    "            unsupervised:\n",
    "                RemoveUseless attribute (removes constant or too variable attribute)\n",
    "                Normalize attribute (bring values in a scale)\n",
    "                Standardize attribute (zero mean and 1 variance)\n",
    "                \n",
    "lecture 1.6: (visualize tab)\n",
    "    Data visualization:\n",
    "        can see data w.r.t pair of attributes\n",
    "        \n",
    "    classify -> Result list -> right click (visualize classifier errors)\n",
    "\n",
    "lecture 2.1: userClassifier has to be installed (use GUI chooser -> package Manager)\n",
    "    set 'Supplied test set' (separate from training set)\n",
    "    \n",
    "\n",
    "lecture 2.2:\n",
    "    Training and testing:\n",
    "        either supply test data or use 'Percentage Split' on training data\n",
    "                                        (hold out)\n",
    "    \n",
    "lecture 2.3:\n",
    "    change seed between runs with data split (to randomly split data)\n",
    "    after few runs (say 10), find mean and std dev of accuracy result\n",
    "        variance shows how reliable result is\n",
    "lecture 2.4:\n",
    "    - zeroR: simply guesses most popular choice. (referred to as BaseLine)\n",
    "    - supermarket dataset: only zeroR performes best if dataset is applied brute force\n",
    "        --> attributes are not always informative\n",
    "    - ALWAYS try zeroR to get baseline accuracy\n",
    "        --> apply simple classifiers first, then more complicated...\n",
    "lecture 2.6:\n",
    "    - Cross Validation: improving upon repeated hold out\n",
    "    - read slides for 10-fold cross validaation\n",
    "    - RULE-OF-THUMB:\n",
    "        Lots of Data per class: use precentage split (no need of Cross Validation)\n",
    "        Else : Stratified Cross-Validation (Weka does stratified CV be default)\n",
    "        \n",
    "lecture 3.1:\n",
    "    - with 2 class, expect atleast 50% success rate from any algo\n",
    "    \n",
    "lecture 3.2:\n",
    "    - OneR file, with too low bucket size may overfit training data.\n",
    "        but wont generalize well for test data.\n",
    "        \n",
    "lecture 3.3:\n",
    "    <img src=\"NaiveBayes.png\">\n",
    "    \n",
    "    - basically we want to find probability of an outcome H given we know set of attribute values (E1, E2, E3...)\n",
    "    - So first find out P(Ek/H) which is probability of an attribute value Ek given H, as seen in past\n",
    "    \n",
    "    - WEKA adds 1 to each attribute-value occurence of each class (to avoid zero freq problem. Otherwise, '0' occurence would overrule any other conclusion.\n",
    "    - ISSUE : assumes all attributes are independent. For redundant or correlated attributes, results would be wrong.\n",
    " \n",
    "lecture 3.5:\n",
    "    - PRUNING Decision Trees: get rid of branches which are not important\n",
    "    - confidenceFactor: used for pruning back from the leaves\n",
    "    - subtreeRaising : increases complexity (faster if turned off)\n",
    "\n",
    "lecture 3.6:\n",
    "    - nearest neighbor learning = instance-based learning (IBK)\n",
    "    -     lazy learning -- don't make predictions until leaner has to\n",
    "    -    accuracy figures SHOULD IMPROVE if dataset is too 'noisy' (doesn't happen if dataset is not noisy)\n",
    "     -   ASSUMES all attributes are important. \n",
    "      -  IRRELEVANT FEATURES: If x has irrelevant, noisy features, distance function becomes useless\n",
    "       - NORMAIZE attributes between 0 and 1\n",
    "        - crossValidate switch (options) finds appropriate value of k between 1-K (generally set K=20)\n",
    "        <img src=\"kNN.png\">\n",
    "        \n",
    "lecture 4.1:\n",
    "    - Boundary visualizer : Visualization Menu -->shows decision boundaries\n",
    "    \n",
    "lecture 4.2: linear regression\n",
    "    works fine when more instances than attributes\n",
    "    standard metric to use : root mean square error\n",
    "    M5P generates tree with leaves as Linear Regression models.\n",
    "    NominalToBinaryFilter: Wont work on target attribute --> change target attribute to No Class\n",
    "        Supervised: creates new attributes from value with unionizing original nominal values\n",
    "        Unspervised: creates new attributes from values for each individual original nominal values.\n",
    "\n",
    "lecture 4.3: classification by regression\n",
    "    can CREATE new classification using supervised filer 'AddClassification' \n",
    "        --> set classifier: linearRegression AND outputClassification: True\n",
    "    MakeIndicator: convert class to binary based on a value\n",
    "    \n",
    "lecture 4.4: logistic regression\n",
    "\n",
    "lecture 4.5: SVM\n",
    "    SMO restricted to 2 class classification\n",
    "    <img src=\"SVMs.png\">\n",
    "\n",
    "lecture 4.6: Ensemble learning\n",
    "    Random forest: Randomize algorithm\n",
    "        Choose randomly from k-best attributes\n",
    "        \n",
    "Summary: \n",
    "    <img src=\"filters.png\">\n",
    "    <img src=\"summary.png\">\n",
    "\n",
    "\n"
   ]
  },
  {
   "cell_type": "code",
   "execution_count": 3,
   "metadata": {
    "collapsed": false
   },
   "outputs": [
    {
     "data": {
      "text/plain": [
       "[0, 1, 2, 3, 4]"
      ]
     },
     "execution_count": 3,
     "metadata": {},
     "output_type": "execute_result"
    }
   ],
   "source": [
    "range(5)\n"
   ]
  },
  {
   "cell_type": "code",
   "execution_count": 2,
   "metadata": {
    "collapsed": true
   },
   "outputs": [],
   "source": [
    "%matplotlib inline\n",
    "import matplotlib.pyplot as plt"
   ]
  },
  {
   "cell_type": "code",
   "execution_count": 4,
   "metadata": {
    "collapsed": false
   },
   "outputs": [
    {
     "data": {
      "image/png": "[encoded data removed]",
      "text/plain": [
       "<matplotlib.figure.Figure at 0x10cb465d0>"
      ]
     },
     "metadata": {},
     "output_type": "display_data"
    }
   ],
   "source": [
    "x=range(5)\n",
    "y=[4,5,6,7,8]\n",
    "plt.plot(range(5), y)\n",
    "plt.ylabel('some numbers')\n",
    "plt.show()\n",
    "#from sklearn import datasets\n",
    "#iris = datasets.load_iris()\n",
    "#digits = datasets.load_digits()\n",
    "\n"
   ]
  },
  {
   "cell_type": "code",
   "execution_count": null,
   "metadata": {
    "collapsed": true
   },
   "outputs": [],
   "source": []
  }
 ],
 "metadata": {
  "celltoolbar": "Slideshow",
  "kernelspec": {
   "display_name": "Python 2",
   "language": "python",
   "name": "python2"
  },
  "language_info": {
   "codemirror_mode": {
    "name": "ipython",
    "version": 2
   },
   "file_extension": ".py",
   "mimetype": "text/x-python",
   "name": "python",
   "nbconvert_exporter": "python",
   "pygments_lexer": "ipython2",
   "version": "2.7.12"
  }
 },
 "nbformat": 4,
 "nbformat_minor": 1
}
