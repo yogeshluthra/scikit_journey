{
 "cells": [
  {
   "cell_type": "markdown",
   "metadata": {},
   "source": [
    "#### Libraries"
   ]
  },
  {
   "cell_type": "code",
   "execution_count": 1,
   "metadata": {
    "collapsed": false
   },
   "outputs": [
    {
     "name": "stdout",
     "output_type": "stream",
     "text": [
      "importing notebook from DataFiltering.ipynb\n"
     ]
    }
   ],
   "source": [
    "import pandas as pd\n",
    "import numpy as np\n",
    "import matplotlib.pyplot as plt\n",
    "from sklearn import cross_validation, datasets, preprocessing, svm, linear_model\n",
    "from sklearn.grid_search import GridSearchCV\n",
    "import re\n",
    "import os\n",
    "import string\n",
    "import io, os, sys, types\n",
    "from findMyNotebook import find_notebook\n",
    "import findMyNotebook\n",
    "from DataFiltering import NumericalizeData    #see DataFiltering.ipynb (yes, it is a python notebook!!)"
   ]
  },
  {
   "cell_type": "markdown",
   "metadata": {},
   "source": [
    "#### Load Data Set"
   ]
  },
  {
   "cell_type": "code",
   "execution_count": 2,
   "metadata": {
    "collapsed": false
   },
   "outputs": [
    {
     "name": "stdout",
     "output_type": "stream",
     "text": [
      "    A1  A2   A3   A4    A5   A6   A7  A8   A9   A10  ...    A12 A13   A14  \\\n",
      "0  A11   6  A34  A43  1169  A65  A75   4  A93  A101  ...   A121  67  A143   \n",
      "1  A12  48  A32  A43  5951  A61  A73   2  A92  A101  ...   A121  22  A143   \n",
      "2  A14  12  A34  A46  2096  A61  A74   2  A93  A101  ...   A121  49  A143   \n",
      "\n",
      "    A15 A16   A17 A18   A19   A20 Label  \n",
      "0  A152   2  A173   1  A192  A201     1  \n",
      "1  A152   1  A173   1  A191  A201     2  \n",
      "2  A152   1  A172   2  A191  A201     1  \n",
      "\n",
      "[3 rows x 21 columns]\n",
      "instances: 1000\t attributes: 21\n"
     ]
    }
   ],
   "source": [
    "uciData_path='/Users/yogeshluthra/Documents/OneDrive/OMCS GeorgiaTech/Machine Learning/UCI_datasets'\n",
    "\n",
    "#currData=re.escape('crx.data')\n",
    "currData='german.data'\n",
    "\n",
    "df=pd.read_csv(uciData_path+'/'+currData, sep='[,\\t\\s]+', header=None, engine='python')\n",
    "attributes=['A'+str(colnum) for colnum in range(1,len(df.columns))]\n",
    "attributes.append('Label')\n",
    "df.columns = attributes\n",
    "print(df.head(n=3))\n",
    "print(\"instances: \"+str(len(df.index))+\"\\t attributes: \"+str(len(df.columns)))\n",
    "\n"
   ]
  },
  {
   "cell_type": "markdown",
   "metadata": {},
   "source": [
    "#### Replace missing values with np.nan"
   ]
  },
  {
   "cell_type": "code",
   "execution_count": 3,
   "metadata": {
    "collapsed": true
   },
   "outputs": [],
   "source": [
    "replacementDict={'?':np.nan, \n",
    "                 '-':np.nan}"
   ]
  },
  {
   "cell_type": "code",
   "execution_count": 4,
   "metadata": {
    "collapsed": false
   },
   "outputs": [
    {
     "name": "stdout",
     "output_type": "stream",
     "text": [
      "Any missing values? False\n"
     ]
    }
   ],
   "source": [
    "df=df.replace(replacementDict)\n",
    "print(\"Any missing values? {0}\".format(df.isnull().values.any()))"
   ]
  },
  {
   "cell_type": "markdown",
   "metadata": {},
   "source": [
    "#### Save data for sanity check"
   ]
  },
  {
   "cell_type": "code",
   "execution_count": 5,
   "metadata": {
    "collapsed": false
   },
   "outputs": [
    {
     "name": "stdout",
     "output_type": "stream",
     "text": [
      "processed csv saved in:\n",
      "/Users/yogeshluthra/Documents/OneDrive/OMCS GeorgiaTech/Machine Learning/UCI_datasets/german.data.csv\n"
     ]
    }
   ],
   "source": [
    "df.to_csv(uciData_path+'/'+currData+'.csv', sep=',', index=False)   #no index column. Separated by tab\n",
    "print(\"processed csv saved in:\")\n",
    "print(uciData_path+'/'+currData+'.csv')"
   ]
  },
  {
   "cell_type": "markdown",
   "metadata": {},
   "source": [
    "#### Use DataSet"
   ]
  },
  {
   "cell_type": "code",
   "execution_count": 6,
   "metadata": {
    "collapsed": false
   },
   "outputs": [
    {
     "name": "stdout",
     "output_type": "stream",
     "text": [
      "target shape: (1000,) \t attribute shape: (1000, 20)\n"
     ]
    }
   ],
   "source": [
    "y=df['Label'].values\n",
    "X=df.ix[:,:-1].values\n",
    "print(\"target shape: {0} \\t attribute shape: {1}\".format(y.shape, X.shape))"
   ]
  },
  {
   "cell_type": "markdown",
   "metadata": {},
   "source": [
    "##### Some data usage example"
   ]
  },
  {
   "cell_type": "code",
   "execution_count": 7,
   "metadata": {
    "collapsed": false
   },
   "outputs": [
    {
     "name": "stdout",
     "output_type": "stream",
     "text": [
      "['A11' 48 'A34' 'A42' 4870]\n"
     ]
    }
   ],
   "source": [
    "x_curr=X[:5,0]        #creates row vector\n",
    "x_curr=X[:5,[0]]      #creates col vector\n",
    "x_curr=X[np.array(range(5)),:5]    #print matrix of 5x5\n",
    "x_curr=X[np.array(range(5)),np.array([0,1,2,3,4])]    #diagonal slicing\n",
    "print x_curr"
   ]
  },
  {
   "cell_type": "code",
   "execution_count": 8,
   "metadata": {
    "collapsed": false
   },
   "outputs": [
    {
     "name": "stdout",
     "output_type": "stream",
     "text": [
      "['c', 'c', 'c', 'c', 'c', 'c', 'c', 'c', 'c', 'c', 'c', 'c', 'c', 'c', 'c', 'c', 'c', 'c', 'c', 'c']\n"
     ]
    }
   ],
   "source": [
    "print ['c' for i in range(X.shape[1])]    # copy paste for attribute types below"
   ]
  },
  {
   "cell_type": "markdown",
   "metadata": {},
   "source": [
    "#### Data preprocessing\n",
    "-  One-Hot encoding for categorical features  \n",
    "-  Mean normalization for numerical attributes (if doNorm is True)  \n",
    "-  Imputing of Nominal and Numeric attribute values\n",
    "  -  If doImpute==False and removeMissing==True   remove instances with any missing missing attribute value\n",
    "-  label binarization  "
   ]
  },
  {
   "cell_type": "code",
   "execution_count": 9,
   "metadata": {
    "collapsed": false
   },
   "outputs": [
    {
     "name": "stdout",
     "output_type": "stream",
     "text": [
      "just for check\n",
      "[('A11', 'c'), (6, 'n'), ('A34', 'c'), ('A43', 'c'), (1169, 'n'), ('A65', 'c'), ('A75', 'c'), (4, 'n'), ('A93', 'c'), ('A101', 'c'), (4, 'n'), ('A121', 'c'), (67, 'n'), ('A143', 'c'), ('A152', 'c'), (2, 'n'), ('A173', 'c'), (1, 'n'), ('A192', 'c'), ('A201', 'c')]\n",
      "Attribute shape (before): (1000, 20)\n",
      "Imputing dataset...\n",
      "Attribute shape (after): (1000, 61)\n"
     ]
    }
   ],
   "source": [
    "attrTypes=['c', 'n', 'c', 'c', 'n', 'c', 'c', 'n', 'c', 'c', 'n', 'c', 'n', 'c', 'c', 'n', 'c', 'n', 'c', 'c']\n",
    "print \"just for check\"\n",
    "print zip(X[0,:],attrTypes)\n",
    "\n",
    "print(\"Attribute shape (before): {0}\".format(X.shape))\n",
    "(X, enc_num, enc_nom)=NumericalizeData(X, attrTypes)\n",
    "print(\"Attribute shape (after): {0}\".format(X.shape))"
   ]
  },
  {
   "cell_type": "code",
   "execution_count": 10,
   "metadata": {
    "collapsed": false
   },
   "outputs": [
    {
     "data": {
      "text/plain": [
       "array([ 1.        ,  0.        ,  0.        ,  1.        ,  0.        ,\n",
       "        1.        ,  0.        ,  0.        ,  0.        ,  0.        ,\n",
       "        0.        ,  0.        ,  0.        ,  1.        ,  0.        ,\n",
       "        1.        ,  0.        ,  0.        ,  0.        ,  1.        ,\n",
       "        0.        ,  0.        ,  1.        ,  1.        ,  0.        ,\n",
       "        0.        ,  0.        ,  0.        ,  0.        ,  1.        ,\n",
       "        0.        ,  0.        ,  0.        ,  0.        ,  1.        ,\n",
       "        0.        ,  0.        ,  0.        ,  0.        ,  0.        ,\n",
       "        0.        ,  0.        ,  0.        ,  0.        ,  1.        ,\n",
       "        0.        ,  0.        ,  0.        ,  0.        ,  1.        ,\n",
       "        0.        ,  0.        ,  1.        ,  0.        , -1.23647786,\n",
       "       -0.74513141,  0.91847717,  1.04698668,  2.76645648,  1.02707891,\n",
       "       -0.42828957])"
      ]
     },
     "execution_count": 10,
     "metadata": {},
     "output_type": "execute_result"
    }
   ],
   "source": [
    "X[0,:]"
   ]
  },
  {
   "cell_type": "markdown",
   "metadata": {},
   "source": [
    "#### Train Algo"
   ]
  },
  {
   "cell_type": "code",
   "execution_count": 11,
   "metadata": {
    "collapsed": false
   },
   "outputs": [
    {
     "data": {
      "image/png": "[encoded data removed]",
      "text/plain": [
       "<matplotlib.figure.Figure at 0x10fe013d0>"
      ]
     },
     "metadata": {},
     "output_type": "display_data"
    }
   ],
   "source": [
    "svc = svm.SVC(kernel='linear')\n",
    "C_s = np.logspace(-10, 0, 10)\n",
    "\n",
    "kfolds_strat=cross_validation.StratifiedKFold(y, n_folds=3)\n",
    "score_vector=[]\n",
    "for C in C_s:\n",
    "    svc.C=C\n",
    "    this_mean_score = np.mean(cross_validation.cross_val_score(svc, X, y, cv=kfolds_strat, n_jobs=-1))\n",
    "    #this will compute score based on cross validation. Basically this FITS on train and SCORES on test (cv set) itself.\n",
    "    score_vector.append(this_mean_score)\n",
    "plt.semilogx(C_s, score_vector)\n",
    "plt.show()"
   ]
  },
  {
   "cell_type": "code",
   "execution_count": null,
   "metadata": {
    "collapsed": true
   },
   "outputs": [],
   "source": []
  }
 ],
 "metadata": {
  "kernelspec": {
   "display_name": "Python 2",
   "language": "python",
   "name": "python2"
  },
  "language_info": {
   "codemirror_mode": {
    "name": "ipython",
    "version": 2
   },
   "file_extension": ".py",
   "mimetype": "text/x-python",
   "name": "python",
   "nbconvert_exporter": "python",
   "pygments_lexer": "ipython2",
   "version": "2.7.12"
  }
 },
 "nbformat": 4,
 "nbformat_minor": 1
}
