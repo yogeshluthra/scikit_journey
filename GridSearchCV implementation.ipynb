{
 "cells": [
  {
   "cell_type": "code",
   "execution_count": 1,
   "metadata": {
    "collapsed": true
   },
   "outputs": [],
   "source": [
    "import numpy as np\n",
    "from sklearn import cross_validation, datasets, svm, linear_model\n",
    "import matplotlib.pyplot as plt\n",
    "from sklearn.grid_search import GridSearchCV\n",
    "from sklearn.metrics import roc_curve\n"
   ]
  },
  {
   "cell_type": "code",
   "execution_count": 2,
   "metadata": {
    "collapsed": false
   },
   "outputs": [
    {
     "name": "stdout",
     "output_type": "stream",
     "text": [
      "<type 'numpy.ndarray'>\n"
     ]
    }
   ],
   "source": [
    "digits = datasets.load_digits()\n",
    "X = digits.data\n",
    "y = digits.target\n",
    "print type(X)"
   ]
  },
  {
   "cell_type": "code",
   "execution_count": 3,
   "metadata": {
    "collapsed": false
   },
   "outputs": [
    {
     "data": {
      "image/png": "[encoded data removed]",
      "text/plain": [
       "<matplotlib.figure.Figure at 0x10dba8d10>"
      ]
     },
     "metadata": {},
     "output_type": "display_data"
    }
   ],
   "source": [
    "svc = svm.SVC(kernel='linear')\n",
    "C_s = np.logspace(-10, 0, 10)\n",
    "\n",
    "kfolds_strat=cross_validation.StratifiedKFold(y, n_folds=3)\n",
    "score_vector=[]\n",
    "for C in C_s:\n",
    "    svc.C=C\n",
    "    this_mean_score = np.mean(cross_validation.cross_val_score(svc, X, y, cv=kfolds_strat, n_jobs=-1))\n",
    "    #this will compute score based on cross validation. Basically this FITS on train and SCORES on test (cv set) itself.\n",
    "    score_vector.append(this_mean_score)\n",
    "plt.semilogx(C_s, score_vector)\n",
    "plt.show()"
   ]
  },
  {
   "cell_type": "markdown",
   "metadata": {},
   "source": [
    "#### How to estimate the best hyper-param and do stratified folding AFTER best param is found per fold(?)\n",
    "Say clf is an object of GridSearchCV class  \n",
    "- does clf find best hyperparam per fold run? \n",
    "  -       each run has a train and test vector. During fit only train data is passed to clf, only on which clf can find best param.\n",
    "    -             so during each fold run, new train data is passed --> does it mean every fold run new hyperparam is found\n",
    "- If above is true, how to get hyperparam for each run?"
   ]
  },
  {
   "cell_type": "code",
   "execution_count": 4,
   "metadata": {
    "collapsed": false
   },
   "outputs": [
    {
     "name": "stdout",
     "output_type": "stream",
     "text": [
      "[ 0.93513514  0.9726776   0.9281768   0.96111111  0.95530726  0.99441341\n",
      "  0.98324022  0.97752809  0.92655367  0.94318182]\n"
     ]
    }
   ],
   "source": [
    "#Search grid for best C --> find score with best C with stratified cross validation strategy\n",
    "kfolds_strat_gridsearch=cross_validation.StratifiedKFold(y, n_folds=10)\n",
    "clf=GridSearchCV(estimator=svc, param_grid=dict(C=C_s))\n",
    "print cross_validation.cross_val_score(clf, X, y, cv=kfolds_strat_gridsearch, n_jobs=-1)"
   ]
  },
  {
   "cell_type": "markdown",
   "metadata": {
    "collapsed": false
   },
   "source": [
    "print clf.best_score_  \n",
    "print clf.best_estimator_.C\n",
    "- above 2 lines in case fit is performed directly on GridSearchCV object. \n",
    "- GridSearchCV does 3 fold CV (splits data it is given, into train and test sets, itself) and finds best hyperparam"
   ]
  },
  {
   "cell_type": "markdown",
   "metadata": {},
   "source": [
    "#### Find alpha for Lasso model of linear regression class"
   ]
  },
  {
   "cell_type": "code",
   "execution_count": null,
   "metadata": {
    "collapsed": true
   },
   "outputs": [],
   "source": []
  }
 ],
 "metadata": {
  "kernelspec": {
   "display_name": "Python 2",
   "language": "python",
   "name": "python2"
  },
  "language_info": {
   "codemirror_mode": {
    "name": "ipython",
    "version": 2
   },
   "file_extension": ".py",
   "mimetype": "text/x-python",
   "name": "python",
   "nbconvert_exporter": "python",
   "pygments_lexer": "ipython2",
   "version": "2.7.12"
  }
 },
 "nbformat": 4,
 "nbformat_minor": 1
}
